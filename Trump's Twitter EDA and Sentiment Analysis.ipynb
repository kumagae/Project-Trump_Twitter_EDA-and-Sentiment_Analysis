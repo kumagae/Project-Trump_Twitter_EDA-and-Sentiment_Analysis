
{
 "cells": [
  {
   "cell_type": "markdown",
   "metadata": {},
   "source": [
    "# Trump's Twitter EDA and Sentiment Analysis\n",
    "\n",
    "This project uses Twitter's API in order to analyze the 45th President's tweets. \n",
    "\n",
    "The first phase of this project uses pandas to import/clean data and make some insights into what device the data comes from and what time Trump's tweets arrive at.\n",
    "\n",
    "The second phase uses VADER (Valence Aware Dictionary and Sentiment Reasoner). VADER lexicon is used to analyze the sentiment of the tweets. It is a rule-based sentiment analysis tool specifically for common social media language. This allows assignment of a numerical polarity value to individual words and emoji (see VADER section of notebook). In other words, this allows the project to measure the polarization of Trump's tweets.  \n",
    " \n",
    "The analysis of this project can be used for any type of text sentiment analysis. Possible applications may be for measuring a youtube channel's comment polarization or for a product review sentiment analysis.\n",
    " \n",
    "NOTE: This is meant to be a fun project, meant to showcase data and not make a political statement. "
   ]
  },
  {
   "cell_type": "code",
   "execution_count": 1,
   "metadata": {},
   "outputs": [],
   "source": [
    "# Run this cell to set up your notebook\n",
    "import csv\n",
    "import numpy as np\n",
    "import pandas as pd\n",
    "import matplotlib.pyplot as plt\n",
    "import zipfile\n",
    "import json\n",
    "from pathlib import Path\n",
    "from pprint import pprint\n",
    "\n",
    "# Ensure that Pandas shows at least 280 characters in columns, so we can see full tweets\n",
    "pd.set_option('max_colwidth', 280)\n",
    "\n",
    "%matplotlib inline\n",
    "plt.style.use('fivethirtyeight')\n",
    "import seaborn as sns\n",
    "sns.set()\n",
    "sns.set_context(\"talk\")\n",
    "import re"
   ]
  },
  {
   "cell_type": "code",
   "execution_count": 2,
   "metadata": {},
   "outputs": [
    {
     "name": "stdout",
     "output_type": "stream",
     "text": [
      "Requirement already satisfied: tweepy in c:\\users\\ted kumagai\\appdata\\local\\programs\\python\\python36\\lib\\site-packages (3.9.0)\n",
      "Requirement already satisfied: requests[socks]>=2.11.1 in c:\\users\\ted kumagai\\appdata\\local\\programs\\python\\python36\\lib\\site-packages (from tweepy) (2.24.0)\n",
      "Requirement already satisfied: requests-oauthlib>=0.7.0 in c:\\users\\ted kumagai\\appdata\\local\\programs\\python\\python36\\lib\\site-packages (from tweepy) (1.3.0)\n",
      "Requirement already satisfied: six>=1.10.0 in c:\\users\\ted kumagai\\appdata\\local\\programs\\python\\python36\\lib\\site-packages (from tweepy) (1.12.0)\n",
      "Requirement already satisfied: urllib3!=1.25.0,!=1.25.1,<1.26,>=1.21.1 in c:\\users\\ted kumagai\\appdata\\local\\programs\\python\\python36\\lib\\site-packages (from requests[socks]>=2.11.1->tweepy) (1.25.10)\n",
      "Requirement already satisfied: certifi>=2017.4.17 in c:\\users\\ted kumagai\\appdata\\local\\programs\\python\\python36\\lib\\site-packages (from requests[socks]>=2.11.1->tweepy) (2020.6.20)\n",
      "Requirement already satisfied: idna<3,>=2.5 in c:\\users\\ted kumagai\\appdata\\local\\programs\\python\\python36\\lib\\site-packages (from requests[socks]>=2.11.1->tweepy) (2.10)\n",
      "Requirement already satisfied: chardet<4,>=3.0.2 in c:\\users\\ted kumagai\\appdata\\local\\programs\\python\\python36\\lib\\site-packages (from requests[socks]>=2.11.1->tweepy) (3.0.4)\n",
      "Requirement already satisfied: PySocks!=1.5.7,>=1.5.6; extra == \"socks\" in c:\\users\\ted kumagai\\appdata\\local\\programs\\python\\python36\\lib\\site-packages (from requests[socks]>=2.11.1->tweepy) (1.7.1)\n",
      "Requirement already satisfied: oauthlib>=3.0.0 in c:\\users\\ted kumagai\\appdata\\local\\programs\\python\\python36\\lib\\site-packages (from requests-oauthlib>=0.7.0->tweepy) (3.1.0)\n"
     ]
    },
    {
     "name": "stderr",
     "output_type": "stream",
     "text": [
      "WARNING: You are using pip version 20.2.1; however, version 20.2.2 is available.\n",
      "You should consider upgrading via the 'c:\\users\\ted kumagai\\appdata\\local\\programs\\python\\python36\\python.exe -m pip install --upgrade pip' command.\n"
     ]
    }
   ],
   "source": [
    "!pip install tweepy"
   ]
  },
  {
   "cell_type": "markdown",
   "metadata": {},
   "source": [
    "# Phase I: EDA"
   ]
  },
  {
   "cell_type": "markdown",
   "metadata": {},
   "source": [
    "# Twitter API: Downloading Recent Tweets\n",
    "\n",
    "Here the project's twitter data is downloaded using the Twitter API. \n",
    "\n",
    "In order to do this:\n",
    "\n",
    "1. Create a Twitter Account.\n",
    "2. Add a phone number in acount settings.\n",
    "3. Create a twitter developer account.\n",
    "4. Create an application on the developer account page. \n",
    "5. Find Consumer Key and Secret.\n",
    "6. On the same page, create Access Token and record both the Access Token and Secret. \n",
    "7. Create a keys.json file and insert Token information."
   ]
  },
  {
   "cell_type": "code",
   "execution_count": 3,
   "metadata": {},
   "outputs": [],
   "source": [
    "import json\n",
    "key_file = 'keys.json'\n",
    "# Loading your keys from keys.json\n",
    "with open(key_file) as f:\n",
    "    keys = json.load(f)"
   ]
  },
  {
   "cell_type": "markdown",
   "metadata": {},
   "source": [
    "This cell test Twitter authentication."
   ]
  },
  {
   "cell_type": "code",
   "execution_count": 4,
   "metadata": {},
   "outputs": [
    {
     "name": "stdout",
     "output_type": "stream",
     "text": [
      "Your username is: LifeisthePath\n"
     ]
    }
   ],
   "source": [
    "import tweepy\n",
    "from tweepy import TweepError\n",
    "import logging\n",
    "\n",
    "try:\n",
    "    auth = tweepy.OAuthHandler(keys[\"consumer_key\"], keys[\"consumer_secret\"])\n",
    "    auth.set_access_token(keys[\"access_token\"], keys[\"access_token_secret\"])\n",
    "    api = tweepy.API(auth)\n",
    "    print(\"Your username is:\", api.auth.get_username())\n",
    "except TweepError as e:\n",
    "    logging.warning(\"There was a Tweepy error. Double check your API keys and try again.\")\n",
    "    logging.warning(e)"
   ]
  },
  {
   "cell_type": "code",
   "execution_count": 5,
   "metadata": {},
   "outputs": [],
   "source": [
    "def load_keys(path):\n",
    "    \"\"\"Loads Twitter authentication keys from a file on disk.\n",
    "    \n",
    "    Args:\n",
    "        path (str): The path to your key file.  The file should\n",
    "          be in JSON format and look like this (but filled in):\n",
    "            {\n",
    "                \"consumer_key\": \"<your Consumer Key here>\",\n",
    "                \"consumer_secret\":  \"<your Consumer Secret here>\",\n",
    "                \"access_token\": \"<your Access Token here>\",\n",
    "                \"access_token_secret\": \"<your Access Token Secret here>\"\n",
    "            }\n",
    "    \n",
    "    Returns:\n",
    "        dict: A dictionary mapping key names (like \"consumer_key\") to\n",
    "        key values.\"\"\"\n",
    "    \n",
    "    import json\n",
    "    with open(path, 'r') as e:\n",
    "        return json.load(e)\n",
    "    \n",
    "    \n",
    "\n",
    "def download_recent_tweets_by_user(user_account_name, keys):\n",
    "    \"\"\"Downloads tweets by one Twitter user.\n",
    "\n",
    "    Args:\n",
    "        user_account_name (str): The name of the Twitter account\n",
    "          whose tweets will be downloaded.\n",
    "        keys (dict): A Python dictionary with Twitter authentication\n",
    "          keys (strings), like this (but filled in):\n",
    "            {\n",
    "                \"consumer_key\": \"<your Consumer Key here>\",\n",
    "                \"consumer_secret\":  \"<your Consumer Secret here>\",\n",
    "                \"access_token\": \"<your Access Token here>\",\n",
    "                \"access_token_secret\": \"<your Access Token Secret here>\"\n",
    "            }\n",
    "\n",
    "    Returns:\n",
    "        list: A list of Dictonary objects, each representing one tweet.\"\"\"\n",
    "    import tweepy\n",
    "    import json\n",
    "    auth = tweepy.OAuthHandler(keys[\"consumer_key\"], keys[\"consumer_secret\"])\n",
    "    auth.set_access_token(keys[\"access_token\"], keys[\"access_token_secret\"])\n",
    "    api = tweepy.API(auth)\n",
    "    \n",
    "    return [t._json for t in tweepy.Cursor(api.user_timeline, id=user_account_name, \n",
    "                                             tweet_mode='extended').items()]\n",
    "\n",
    "def save_tweets(tweets, path):\n",
    "    \"\"\"Saves a list of tweets to a file in the local filesystem.\n",
    "    \n",
    "    This function makes no guarantee about the format of the saved\n",
    "    tweets, **except** that calling load_tweets(path) after\n",
    "    save_tweets(tweets, path) will produce the same list of tweets\n",
    "    and that only the file at the given path is used to store the\n",
    "    tweets.\n",
    "    \n",
    "    Args:\n",
    "        tweets (list): A list of tweet objects (of type Dictionary) to\n",
    "          be saved.\n",
    "        path (str): The place where the tweets will be saved.\n",
    "\n",
    "    Returns:\n",
    "        None\"\"\"\n",
    "    import json\n",
    "    with open(path, \"w\") as e:        \n",
    "        json.dump(tweets, e)\n",
    "        \n",
    "\n",
    "def save_tweets(tweets, path):\n",
    "    \"\"\"Saves a list of tweets to a file in the local filesystem.\n",
    "    \n",
    "    This function makes no guarantee about the format of the saved\n",
    "    tweets, **except** that calling load_tweets(path) after\n",
    "    save_tweets(tweets, path) will produce the same list of tweets\n",
    "    and that only the file at the given path is used to store the\n",
    "    tweets.  (That means you can implement this function however\n",
    "    you want, as long as saving and loading works!)\n",
    "\n",
    "    Args:\n",
    "        tweets (list): A list of tweet objects (of type Dictionary) to\n",
    "          be saved.\n",
    "        path (str): The place where the tweets will be saved.\n",
    "\n",
    "    Returns:\n",
    "        None\"\"\"\n",
    "    import json\n",
    "    with open(path, \"w\") as e:        \n",
    "        json.dump(tweets, e)\n",
    "\n",
    "def load_tweets(path):\n",
    "    \"\"\"Loads tweets that have previously been saved.\n",
    "    \n",
    "    Calling load_tweets(path) after save_tweets(tweets, path)\n",
    "    will produce the same list of tweets.\n",
    "    \n",
    "    Args:\n",
    "        path (str): The place where the tweets were be saved.\n",
    "\n",
    "    Returns:\n",
    "        list: A list of Dictionary objects, each representing one tweet.\"\"\"\n",
    "    import json\n",
    "    # Re-loading the json file:\n",
    "    with open(path, \"rb\") as e:\n",
    "        return json.load(e)\n",
    "\n",
    "        \n",
    "def get_tweets_with_cache(user_account_name, keys_path):\n",
    "    \"\"\"Get recent tweets from one user, loading from a disk cache if available.\n",
    "    \n",
    "    The first time you call this function, it will download tweets by\n",
    "    a user.  Subsequent calls will not re-download the tweets; instead\n",
    "    they'll load the tweets from a save file in your local filesystem.\n",
    "    All this is done using the functions you defined in the previous cell.\n",
    "    This has benefits and drawbacks that often appear when you cache data:\n",
    "    \n",
    "    +: Using this function will prevent extraneous usage of the Twitter API.\n",
    "    +: You will get your data much faster after the first time it's called.\n",
    "    -: If you really want to re-download the tweets (say, to get newer ones,\n",
    "       or because you screwed up something in the previous cell and your\n",
    "       tweets aren't what you wanted), you'll have to find the save file\n",
    "       (which will look like <something>_recent_tweets.pkl) and delete it.\n",
    "    \n",
    "    Args:\n",
    "        user_account_name (str): The Twitter handle of a user, without the @.\n",
    "        keys_path (str): The path to a JSON keys file in your filesystem.\n",
    "    \"\"\"\n",
    "    save_path = user_account_name+\"_recent_tweets.json\"\n",
    "    \n",
    "    if not Path(user_account_name+\"_recent_tweets.json\").is_file():\n",
    "        save_tweets(download_recent_tweets_by_user(user_account_name, load_keys(keys_path)), save_path)\n",
    "    return load_tweets(save_path)"
   ]
  },
  {
   "cell_type": "markdown",
   "metadata": {},
   "source": [
    "When normally working, the last 3000 tweets from \"@realdonaldtrump\" are collected below:"
   ]
  },
  {
   "cell_type": "code",
   "execution_count": 6,
   "metadata": {},
   "outputs": [
    {
     "name": "stdout",
     "output_type": "stream",
     "text": [
      "Number of tweets downloaded: 3215\n"
     ]
    }
   ],
   "source": [
    "trump_tweets = get_tweets_with_cache(\"realdonaldtrump\", key_file)\n",
    "print(\"Number of tweets downloaded:\", len(trump_tweets))"
   ]
  },
  {
   "cell_type": "code",
   "execution_count": 7,
   "metadata": {},
   "outputs": [
    {
     "data": {
      "text/plain": [
       "{'created_at': 'Sun May 10 19:21:23 +0000 2020',\n",
       " 'id': 1259564206841626628,\n",
       " 'id_str': '1259564206841626628',\n",
       " 'full_text': 'RT @GreggJarrett: Steele Lawsuit Reveals ‘Most Direct Link’ Between Russia Collusion, Clinton and Obama White House https://t.co/AVUiCxQPqZ',\n",
       " 'truncated': False,\n",
       " 'display_text_range': [0, 139],\n",
       " 'entities': {'hashtags': [],\n",
       "  'symbols': [],\n",
       "  'user_mentions': [{'screen_name': 'GreggJarrett',\n",
       "    'name': 'Gregg Jarrett',\n",
       "    'id': 21536398,\n",
       "    'id_str': '21536398',\n",
       "    'indices': [3, 16]}],\n",
       "  'urls': [{'url': 'https://t.co/AVUiCxQPqZ',\n",
       "    'expanded_url': 'https://gjarr.it/3d6NRTW',\n",
       "    'display_url': 'gjarr.it/3d6NRTW',\n",
       "    'indices': [116, 139]}]},\n",
       " 'source': '<a href=\"http://twitter.com/download/iphone\" rel=\"nofollow\">Twitter for iPhone</a>',\n",
       " 'in_reply_to_status_id': None,\n",
       " 'in_reply_to_status_id_str': None,\n",
       " 'in_reply_to_user_id': None,\n",
       " 'in_reply_to_user_id_str': None,\n",
       " 'in_reply_to_screen_name': None,\n",
       " 'user': {'id': 25073877,\n",
       "  'id_str': '25073877',\n",
       "  'name': 'Donald J. Trump',\n",
       "  'screen_name': 'realDonaldTrump',\n",
       "  'location': 'Washington, DC',\n",
       "  'description': '45th President of the United States of America🇺🇸',\n",
       "  'url': 'https://t.co/OMxB0x7xC5',\n",
       "  'entities': {'url': {'urls': [{'url': 'https://t.co/OMxB0x7xC5',\n",
       "      'expanded_url': 'http://www.Instagram.com/realDonaldTrump',\n",
       "      'display_url': 'Instagram.com/realDonaldTrump',\n",
       "      'indices': [0, 23]}]},\n",
       "   'description': {'urls': []}},\n",
       "  'protected': False,\n",
       "  'followers_count': 85248085,\n",
       "  'friends_count': 50,\n",
       "  'listed_count': 118142,\n",
       "  'created_at': 'Wed Mar 18 13:46:38 +0000 2009',\n",
       "  'favourites_count': 4,\n",
       "  'utc_offset': None,\n",
       "  'time_zone': None,\n",
       "  'geo_enabled': True,\n",
       "  'verified': True,\n",
       "  'statuses_count': 54616,\n",
       "  'lang': None,\n",
       "  'contributors_enabled': False,\n",
       "  'is_translator': False,\n",
       "  'is_translation_enabled': True,\n",
       "  'profile_background_color': '6D5C18',\n",
       "  'profile_background_image_url': 'http://abs.twimg.com/images/themes/theme1/bg.png',\n",
       "  'profile_background_image_url_https': 'https://abs.twimg.com/images/themes/theme1/bg.png',\n",
       "  'profile_background_tile': True,\n",
       "  'profile_image_url': 'http://pbs.twimg.com/profile_images/874276197357596672/kUuht00m_normal.jpg',\n",
       "  'profile_image_url_https': 'https://pbs.twimg.com/profile_images/874276197357596672/kUuht00m_normal.jpg',\n",
       "  'profile_banner_url': 'https://pbs.twimg.com/profile_banners/25073877/1595058372',\n",
       "  'profile_link_color': '1B95E0',\n",
       "  'profile_sidebar_border_color': 'BDDCAD',\n",
       "  'profile_sidebar_fill_color': 'C5CEC0',\n",
       "  'profile_text_color': '333333',\n",
       "  'profile_use_background_image': True,\n",
       "  'has_extended_profile': False,\n",
       "  'default_profile': False,\n",
       "  'default_profile_image': False,\n",
       "  'following': False,\n",
       "  'follow_request_sent': False,\n",
       "  'notifications': False,\n",
       "  'translator_type': 'regular'},\n",
       " 'geo': None,\n",
       " 'coordinates': None,\n",
       " 'place': None,\n",
       " 'contributors': None,\n",
       " 'retweeted_status': {'created_at': 'Sat May 02 12:07:51 +0000 2020',\n",
       "  'id': 1256556002700398592,\n",
       "  'id_str': '1256556002700398592',\n",
       "  'full_text': 'Steele Lawsuit Reveals ‘Most Direct Link’ Between Russia Collusion, Clinton and Obama White House https://t.co/AVUiCxQPqZ',\n",
       "  'truncated': False,\n",
       "  'display_text_range': [0, 121],\n",
       "  'entities': {'hashtags': [],\n",
       "   'symbols': [],\n",
       "   'user_mentions': [],\n",
       "   'urls': [{'url': 'https://t.co/AVUiCxQPqZ',\n",
       "     'expanded_url': 'https://gjarr.it/3d6NRTW',\n",
       "     'display_url': 'gjarr.it/3d6NRTW',\n",
       "     'indices': [98, 121]}]},\n",
       "  'source': '<a href=\"http://www.socialflow.com\" rel=\"nofollow\">SocialFlow</a>',\n",
       "  'in_reply_to_status_id': None,\n",
       "  'in_reply_to_status_id_str': None,\n",
       "  'in_reply_to_user_id': None,\n",
       "  'in_reply_to_user_id_str': None,\n",
       "  'in_reply_to_screen_name': None,\n",
       "  'user': {'id': 21536398,\n",
       "   'id_str': '21536398',\n",
       "   'name': 'Gregg Jarrett',\n",
       "   'screen_name': 'GreggJarrett',\n",
       "   'location': 'New York',\n",
       "   'description': 'Legal and political analyst for Fox News Channel. Author of THE RUSSIA HOAX and WITCH HUNT, available now: https://t.co/ubSNZAlnqV.',\n",
       "   'url': 'https://t.co/bCa80T64zi',\n",
       "   'entities': {'url': {'urls': [{'url': 'https://t.co/bCa80T64zi',\n",
       "       'expanded_url': 'https://thegreggjarrett.com',\n",
       "       'display_url': 'thegreggjarrett.com',\n",
       "       'indices': [0, 23]}]},\n",
       "    'description': {'urls': [{'url': 'https://t.co/ubSNZAlnqV',\n",
       "       'expanded_url': 'http://bit.ly/WitchHuntbook',\n",
       "       'display_url': 'bit.ly/WitchHuntbook',\n",
       "       'indices': [107, 130]}]}},\n",
       "   'protected': False,\n",
       "   'followers_count': 725229,\n",
       "   'friends_count': 111,\n",
       "   'listed_count': 1887,\n",
       "   'created_at': 'Sun Feb 22 01:59:05 +0000 2009',\n",
       "   'favourites_count': 24,\n",
       "   'utc_offset': None,\n",
       "   'time_zone': None,\n",
       "   'geo_enabled': False,\n",
       "   'verified': True,\n",
       "   'statuses_count': 1704,\n",
       "   'lang': None,\n",
       "   'contributors_enabled': False,\n",
       "   'is_translator': False,\n",
       "   'is_translation_enabled': False,\n",
       "   'profile_background_color': '9AE4E8',\n",
       "   'profile_background_image_url': 'http://abs.twimg.com/images/themes/theme1/bg.png',\n",
       "   'profile_background_image_url_https': 'https://abs.twimg.com/images/themes/theme1/bg.png',\n",
       "   'profile_background_tile': True,\n",
       "   'profile_image_url': 'http://pbs.twimg.com/profile_images/1024332491967160321/AZAsCMuO_normal.jpg',\n",
       "   'profile_image_url_https': 'https://pbs.twimg.com/profile_images/1024332491967160321/AZAsCMuO_normal.jpg',\n",
       "   'profile_banner_url': 'https://pbs.twimg.com/profile_banners/21536398/1571412209',\n",
       "   'profile_link_color': '0084B4',\n",
       "   'profile_sidebar_border_color': 'BDDCAD',\n",
       "   'profile_sidebar_fill_color': 'ED322C',\n",
       "   'profile_text_color': '333333',\n",
       "   'profile_use_background_image': True,\n",
       "   'has_extended_profile': False,\n",
       "   'default_profile': False,\n",
       "   'default_profile_image': False,\n",
       "   'following': False,\n",
       "   'follow_request_sent': False,\n",
       "   'notifications': False,\n",
       "   'translator_type': 'none'},\n",
       "  'geo': None,\n",
       "  'coordinates': None,\n",
       "  'place': None,\n",
       "  'contributors': None,\n",
       "  'is_quote_status': False,\n",
       "  'retweet_count': 11128,\n",
       "  'favorite_count': 27329,\n",
       "  'favorited': False,\n",
       "  'retweeted': False,\n",
       "  'possibly_sensitive': False,\n",
       "  'lang': 'en'},\n",
       " 'is_quote_status': False,\n",
       " 'retweet_count': 11128,\n",
       " 'favorite_count': 0,\n",
       " 'favorited': False,\n",
       " 'retweeted': False,\n",
       " 'possibly_sensitive': False,\n",
       " 'lang': 'en'}"
      ]
     },
     "execution_count": 7,
     "metadata": {},
     "output_type": "execute_result"
    }
   ],
   "source": [
    "# Number of the month of the oldest tweet (e.g. 1 for January)\n",
    "oldest_month = 8 #(August) \n",
    "\n",
    "# YOUR CODE HERE\n",
    "trump_tweets[-1]\n",
    "    "
   ]
  },
  {
   "cell_type": "code",
   "execution_count": 8,
   "metadata": {},
   "outputs": [
    {
     "data": {
      "text/plain": [
       "dict_keys(['created_at', 'id', 'id_str', 'full_text', 'truncated', 'display_text_range', 'entities', 'extended_entities', 'source', 'in_reply_to_status_id', 'in_reply_to_status_id_str', 'in_reply_to_user_id', 'in_reply_to_user_id_str', 'in_reply_to_screen_name', 'user', 'geo', 'coordinates', 'place', 'contributors', 'retweeted_status', 'is_quote_status', 'retweet_count', 'favorite_count', 'favorited', 'retweeted', 'possibly_sensitive', 'lang'])"
      ]
     },
     "execution_count": 8,
     "metadata": {},
     "output_type": "execute_result"
    }
   ],
   "source": [
    "trump_tweets[0].keys()"
   ]
  },
  {
   "cell_type": "markdown",
   "metadata": {},
   "source": [
    "Also, older trump tweets are not held on Public API's. Here, I load old_trump_tweets from an uploaded file of Trump's older tweets. "
   ]
  },
  {
   "cell_type": "code",
   "execution_count": 9,
   "metadata": {},
   "outputs": [
    {
     "name": "stdout",
     "output_type": "stream",
     "text": [
      "{'created_at': 'Wed Oct 12 14:00:48 +0000 2016', 'id': 786204978629185536, 'id_str': '786204978629185536', 'text': 'PAY TO PLAY POLITICS. \\n#CrookedHillary https://t.co/wjsl8ITVvk', 'truncated': False, 'entities': {'hashtags': [{'text': 'CrookedHillary', 'indices': [23, 38]}], 'symbols': [], 'user_mentions': [], 'urls': [], 'media': [{'id': 786204885318561792, 'id_str': '786204885318561792', 'indices': [39, 62], 'media_url': 'http://pbs.twimg.com/ext_tw_video_thumb/786204885318561792/pu/img/XqMoixLm83FzkAbn.jpg', 'media_url_https': 'https://pbs.twimg.com/ext_tw_video_thumb/786204885318561792/pu/img/XqMoixLm83FzkAbn.jpg', 'url': 'https://t.co/wjsl8ITVvk', 'display_url': 'pic.twitter.com/wjsl8ITVvk', 'expanded_url': 'https://twitter.com/realDonaldTrump/status/786204978629185536/video/1', 'type': 'photo', 'sizes': {'thumb': {'w': 150, 'h': 150, 'resize': 'crop'}, 'medium': {'w': 600, 'h': 338, 'resize': 'fit'}, 'small': {'w': 340, 'h': 191, 'resize': 'fit'}, 'large': {'w': 1024, 'h': 576, 'resize': 'fit'}}}]}, 'extended_entities': {'media': [{'id': 786204885318561792, 'id_str': '786204885318561792', 'indices': [39, 62], 'media_url': 'http://pbs.twimg.com/ext_tw_video_thumb/786204885318561792/pu/img/XqMoixLm83FzkAbn.jpg', 'media_url_https': 'https://pbs.twimg.com/ext_tw_video_thumb/786204885318561792/pu/img/XqMoixLm83FzkAbn.jpg', 'url': 'https://t.co/wjsl8ITVvk', 'display_url': 'pic.twitter.com/wjsl8ITVvk', 'expanded_url': 'https://twitter.com/realDonaldTrump/status/786204978629185536/video/1', 'type': 'video', 'sizes': {'thumb': {'w': 150, 'h': 150, 'resize': 'crop'}, 'medium': {'w': 600, 'h': 338, 'resize': 'fit'}, 'small': {'w': 340, 'h': 191, 'resize': 'fit'}, 'large': {'w': 1024, 'h': 576, 'resize': 'fit'}}, 'video_info': {'aspect_ratio': [16, 9], 'duration_millis': 30106, 'variants': [{'bitrate': 832000, 'content_type': 'video/mp4', 'url': 'https://video.twimg.com/ext_tw_video/786204885318561792/pu/vid/640x360/6vt24D3ZQSvYuDqe.mp4'}, {'bitrate': 2176000, 'content_type': 'video/mp4', 'url': 'https://video.twimg.com/ext_tw_video/786204885318561792/pu/vid/1280x720/rSbgQdvR9TPIlRWr.mp4'}, {'bitrate': 320000, 'content_type': 'video/mp4', 'url': 'https://video.twimg.com/ext_tw_video/786204885318561792/pu/vid/320x180/JuNJDqr1KHqoP83N.mp4'}, {'content_type': 'application/x-mpegURL', 'url': 'https://video.twimg.com/ext_tw_video/786204885318561792/pu/pl/IugUNii3a7lmjApS.m3u8'}]}, 'additional_media_info': {'monetizable': False}}]}, 'source': '<a href=\"http://twitter.com/download/iphone\" rel=\"nofollow\">Twitter for iPhone</a>', 'in_reply_to_status_id': None, 'in_reply_to_status_id_str': None, 'in_reply_to_user_id': None, 'in_reply_to_user_id_str': None, 'in_reply_to_screen_name': None, 'user': {'id': 25073877, 'id_str': '25073877', 'name': 'Donald J. Trump', 'screen_name': 'realDonaldTrump', 'location': 'Washington, DC', 'description': '45th President of the United States of America🇺🇸', 'url': None, 'entities': {'description': {'urls': []}}, 'protected': False, 'followers_count': 35307313, 'friends_count': 45, 'listed_count': 74225, 'created_at': 'Wed Mar 18 13:46:38 +0000 2009', 'favourites_count': 12, 'utc_offset': -14400, 'time_zone': 'Eastern Time (US & Canada)', 'geo_enabled': True, 'verified': True, 'statuses_count': 35480, 'lang': 'en', 'contributors_enabled': False, 'is_translator': False, 'is_translation_enabled': True, 'profile_background_color': '6D5C18', 'profile_background_image_url': 'http://pbs.twimg.com/profile_background_images/530021613/trump_scotland__43_of_70_cc.jpg', 'profile_background_image_url_https': 'https://pbs.twimg.com/profile_background_images/530021613/trump_scotland__43_of_70_cc.jpg', 'profile_background_tile': True, 'profile_image_url': 'http://pbs.twimg.com/profile_images/874276197357596672/kUuht00m_normal.jpg', 'profile_image_url_https': 'https://pbs.twimg.com/profile_images/874276197357596672/kUuht00m_normal.jpg', 'profile_banner_url': 'https://pbs.twimg.com/profile_banners/25073877/1501916634', 'profile_link_color': '1B95E0', 'profile_sidebar_border_color': 'BDDCAD', 'profile_sidebar_fill_color': 'C5CEC0', 'profile_text_color': '333333', 'profile_use_background_image': True, 'has_extended_profile': False, 'default_profile': False, 'default_profile_image': False, 'following': False, 'follow_request_sent': False, 'notifications': False, 'translator_type': 'regular'}, 'geo': None, 'coordinates': None, 'place': {'id': '4ec01c9dbc693497', 'url': 'https://api.twitter.com/1.1/geo/id/4ec01c9dbc693497.json', 'place_type': 'admin', 'name': 'Florida', 'full_name': 'Florida, USA', 'country_code': 'US', 'country': 'United States', 'contained_within': [], 'bounding_box': {'type': 'Polygon', 'coordinates': [[[-87.634643, 24.396308], [-79.974307, 24.396308], [-79.974307, 31.001056], [-87.634643, 31.001056]]]}, 'attributes': {}}, 'contributors': None, 'is_quote_status': False, 'retweet_count': 24915, 'favorite_count': 42242, 'favorited': False, 'retweeted': False, 'possibly_sensitive': False, 'lang': 'en'}\n"
     ]
    }
   ],
   "source": [
    "file_name = 'old_trump_tweets.json.zip'\n",
    "\n",
    "my_zip = zipfile.ZipFile(file_name, 'r')\n",
    "with my_zip.open(\"old_trump_tweets.json\", \"r\") as f:\n",
    "    old_trump_tweets = json.load(f)\n",
    "\n",
    "\n",
    "print(old_trump_tweets[0])\n"
   ]
  },
  {
   "cell_type": "code",
   "execution_count": 10,
   "metadata": {},
   "outputs": [
    {
     "data": {
      "text/plain": [
       "dict_keys(['created_at', 'id', 'id_str', 'text', 'truncated', 'entities', 'extended_entities', 'source', 'in_reply_to_status_id', 'in_reply_to_status_id_str', 'in_reply_to_user_id', 'in_reply_to_user_id_str', 'in_reply_to_screen_name', 'user', 'geo', 'coordinates', 'place', 'contributors', 'is_quote_status', 'retweet_count', 'favorite_count', 'favorited', 'retweeted', 'possibly_sensitive', 'lang'])"
      ]
     },
     "execution_count": 10,
     "metadata": {},
     "output_type": "execute_result"
    }
   ],
   "source": [
    "old_trump_tweets[0].keys()"
   ]
  },
  {
   "cell_type": "markdown",
   "metadata": {},
   "source": [
    "# Data Wrangling\n",
    "\n",
    "Here, a DataFrame called 'trump' with tweet ID set to each tweet is created with these columns:\n",
    "\n",
    "- `time`: The time the tweet was created encoded as a datetime object. (Use `pd.to_datetime` to encode the timestamp.)\n",
    "- `source`: The source device of the tweet.\n",
    "- `text`: The text of the tweet.\n",
    "- `retweet_count`: The retweet count of the tweet. \n",
    "\n",
    "Lets start with merging the older tweets with more recent ones:"
   ]
  },
  {
   "cell_type": "code",
   "execution_count": 11,
   "metadata": {},
   "outputs": [],
   "source": [
    "unique_ids = []\n",
    "all_tweets = []\n",
    "\n",
    "#id of every tweet is unique\n",
    "for elem in old_trump_tweets:\n",
    "    unique_ids.append(elem['id'])\n",
    "\n",
    "for i in trump_tweets:\n",
    "    if i['id'] in unique_ids:\n",
    "        continue\n",
    "    else:\n",
    "        all_tweets.append(i)\n",
    "        unique_ids.append(i['id'])\n",
    "        \n",
    "        \n",
    "all_tweets += old_trump_tweets\n"
   ]
  },
  {
   "cell_type": "code",
   "execution_count": 12,
   "metadata": {},
   "outputs": [
    {
     "data": {
      "text/html": [
       "<div>\n",
       "<style scoped>\n",
       "    .dataframe tbody tr th:only-of-type {\n",
       "        vertical-align: middle;\n",
       "    }\n",
       "\n",
       "    .dataframe tbody tr th {\n",
       "        vertical-align: top;\n",
       "    }\n",
       "\n",
       "    .dataframe thead th {\n",
       "        text-align: right;\n",
       "    }\n",
       "</style>\n",
       "<table border=\"1\" class=\"dataframe\">\n",
       "  <thead>\n",
       "    <tr style=\"text-align: right;\">\n",
       "      <th></th>\n",
       "      <th>time</th>\n",
       "      <th>source</th>\n",
       "      <th>text</th>\n",
       "      <th>retweet_count</th>\n",
       "    </tr>\n",
       "  </thead>\n",
       "  <tbody>\n",
       "    <tr>\n",
       "      <th>690171032150237184</th>\n",
       "      <td>2016-01-21 13:56:11+00:00</td>\n",
       "      <td>&lt;a href=\"http://twitter.com/download/android\" rel=\"nofollow\"&gt;Twitter for Android&lt;/a&gt;</td>\n",
       "      <td>\"@bigop1: @realDonaldTrump  @SarahPalinUSA https://t.co/3kYQGqeVyD\"</td>\n",
       "      <td>1059</td>\n",
       "    </tr>\n",
       "    <tr>\n",
       "      <th>690171403388104704</th>\n",
       "      <td>2016-01-21 13:57:39+00:00</td>\n",
       "      <td>&lt;a href=\"http://twitter.com/download/android\" rel=\"nofollow\"&gt;Twitter for Android&lt;/a&gt;</td>\n",
       "      <td>\"@AmericanAsPie:  @glennbeck @SarahPalinUSA Remember when Glenn gave out gifts to ILLEGAL ALIENS at crossing the border? Me too!\"</td>\n",
       "      <td>1339</td>\n",
       "    </tr>\n",
       "    <tr>\n",
       "      <th>690173226341691392</th>\n",
       "      <td>2016-01-21 14:04:54+00:00</td>\n",
       "      <td>&lt;a href=\"http://twitter.com/download/android\" rel=\"nofollow\"&gt;Twitter for Android&lt;/a&gt;</td>\n",
       "      <td>So sad that @CNN and many others refused to show the massive crowd at the arena yesterday in Oklahoma. Dishonest reporting!</td>\n",
       "      <td>2006</td>\n",
       "    </tr>\n",
       "    <tr>\n",
       "      <th>690176882055114758</th>\n",
       "      <td>2016-01-21 14:19:26+00:00</td>\n",
       "      <td>&lt;a href=\"http://twitter.com/download/android\" rel=\"nofollow\"&gt;Twitter for Android&lt;/a&gt;</td>\n",
       "      <td>Sad sack @JebBush has just done another ad on me, with special interest money, saying I won't beat Hillary - I WILL. But he can't beat me.</td>\n",
       "      <td>2266</td>\n",
       "    </tr>\n",
       "    <tr>\n",
       "      <th>690180284189310976</th>\n",
       "      <td>2016-01-21 14:32:57+00:00</td>\n",
       "      <td>&lt;a href=\"http://twitter.com/download/android\" rel=\"nofollow\"&gt;Twitter for Android&lt;/a&gt;</td>\n",
       "      <td>Low energy candidate @JebBush has wasted $80 million on his failed presidential campaign. Millions spent on me. He should go home and relax!</td>\n",
       "      <td>2886</td>\n",
       "    </tr>\n",
       "  </tbody>\n",
       "</table>\n",
       "</div>"
      ],
      "text/plain": [
       "                                        time  \\\n",
       "690171032150237184 2016-01-21 13:56:11+00:00   \n",
       "690171403388104704 2016-01-21 13:57:39+00:00   \n",
       "690173226341691392 2016-01-21 14:04:54+00:00   \n",
       "690176882055114758 2016-01-21 14:19:26+00:00   \n",
       "690180284189310976 2016-01-21 14:32:57+00:00   \n",
       "\n",
       "                                                                                                  source  \\\n",
       "690171032150237184  <a href=\"http://twitter.com/download/android\" rel=\"nofollow\">Twitter for Android</a>   \n",
       "690171403388104704  <a href=\"http://twitter.com/download/android\" rel=\"nofollow\">Twitter for Android</a>   \n",
       "690173226341691392  <a href=\"http://twitter.com/download/android\" rel=\"nofollow\">Twitter for Android</a>   \n",
       "690176882055114758  <a href=\"http://twitter.com/download/android\" rel=\"nofollow\">Twitter for Android</a>   \n",
       "690180284189310976  <a href=\"http://twitter.com/download/android\" rel=\"nofollow\">Twitter for Android</a>   \n",
       "\n",
       "                                                                                                                                                            text  \\\n",
       "690171032150237184                                                                           \"@bigop1: @realDonaldTrump  @SarahPalinUSA https://t.co/3kYQGqeVyD\"   \n",
       "690171403388104704             \"@AmericanAsPie:  @glennbeck @SarahPalinUSA Remember when Glenn gave out gifts to ILLEGAL ALIENS at crossing the border? Me too!\"   \n",
       "690173226341691392                   So sad that @CNN and many others refused to show the massive crowd at the arena yesterday in Oklahoma. Dishonest reporting!   \n",
       "690176882055114758    Sad sack @JebBush has just done another ad on me, with special interest money, saying I won't beat Hillary - I WILL. But he can't beat me.   \n",
       "690180284189310976  Low energy candidate @JebBush has wasted $80 million on his failed presidential campaign. Millions spent on me. He should go home and relax!   \n",
       "\n",
       "                    retweet_count  \n",
       "690171032150237184           1059  \n",
       "690171403388104704           1339  \n",
       "690173226341691392           2006  \n",
       "690176882055114758           2266  \n",
       "690180284189310976           2886  "
      ]
     },
     "execution_count": 12,
     "metadata": {},
     "output_type": "execute_result"
    }
   ],
   "source": [
    "data = {\n",
    "        'time': [pd.to_datetime(t['created_at']) for t in all_tweets], \n",
    "        'source': [t['source'] for t in all_tweets], \n",
    "        'text': [t['text'] if 'text' in t else t['full_text'] for t in all_tweets], \n",
    "        'retweet_count': [t['retweet_count'] for t in all_tweets]\n",
    "            }\n",
    "\n",
    "index = [t['id'] for t in all_tweets]\n",
    "trump = pd.DataFrame(data=data, index=index)\n",
    "\n",
    "trump.sort_index().head()"
   ]
  },
  {
   "cell_type": "markdown",
   "metadata": {},
   "source": [
    "# Tweet Sources\n",
    "\n",
    "Here the project explores what devices Trump tweets come from. \n",
    "\n",
    "First the source field, which show how much Trump's tweet-content comes from Twitter for iPhone, Twitter Media Studio, Twitter Web App, Twitter for Android, Twitter Web Client, Media Studio, Twitter for IPad, Instagram, Mobile Web, Twitter Ads and Periscope:"
   ]
  },
  {
   "cell_type": "code",
   "execution_count": 13,
   "metadata": {},
   "outputs": [
    {
     "data": {
      "text/plain": [
       "array(['<a href=\"http://twitter.com/download/iphone\" rel=\"nofollow\">Twitter for iPhone</a>',\n",
       "       '<a href=\"https://studio.twitter.com\" rel=\"nofollow\">Twitter Media Studio</a>',\n",
       "       '<a href=\"https://mobile.twitter.com\" rel=\"nofollow\">Twitter Web App</a>',\n",
       "       '<a href=\"http://twitter.com/download/android\" rel=\"nofollow\">Twitter for Android</a>',\n",
       "       '<a href=\"http://twitter.com\" rel=\"nofollow\">Twitter Web Client</a>',\n",
       "       '<a href=\"https://studio.twitter.com\" rel=\"nofollow\">Media Studio</a>',\n",
       "       '<a href=\"http://twitter.com/#!/download/ipad\" rel=\"nofollow\">Twitter for iPad</a>',\n",
       "       '<a href=\"http://instagram.com\" rel=\"nofollow\">Instagram</a>',\n",
       "       '<a href=\"https://mobile.twitter.com\" rel=\"nofollow\">Mobile Web (M5)</a>',\n",
       "       '<a href=\"https://ads.twitter.com\" rel=\"nofollow\">Twitter Ads</a>',\n",
       "       '<a href=\"https://periscope.tv\" rel=\"nofollow\">Periscope</a>'],\n",
       "      dtype=object)"
      ]
     },
     "execution_count": 13,
     "metadata": {},
     "output_type": "execute_result"
    }
   ],
   "source": [
    "trump['source'].unique()"
   ]
  },
  {
   "cell_type": "code",
   "execution_count": 14,
   "metadata": {},
   "outputs": [
    {
     "data": {
      "text/plain": [
       "array(['Twitter for iPhone', 'Twitter Media Studio', 'Twitter Web App',\n",
       "       'Twitter for Android', 'Twitter Web Client', 'Media Studio',\n",
       "       'Twitter for iPad', 'Instagram', 'Mobile Web (M5)', 'Twitter Ads',\n",
       "       'Periscope'], dtype=object)"
      ]
     },
     "execution_count": 14,
     "metadata": {},
     "output_type": "execute_result"
    }
   ],
   "source": [
    "## Uncomment and complete\n",
    "trump['source'] = trump['source'].str.replace(\"<[^>]*>\", '')\n",
    "trump['source'].unique()"
   ]
  },
  {
   "cell_type": "code",
   "execution_count": 15,
   "metadata": {},
   "outputs": [],
   "source": [
    "from datetime import datetime\n",
    "ELEC_DATE = datetime(2016, 11, 8)\n",
    "INAUG_DATE = datetime(2017, 1, 20)\n"
   ]
  },
  {
   "cell_type": "code",
   "execution_count": 16,
   "metadata": {},
   "outputs": [
    {
     "data": {
      "text/plain": [
       "Text(0, 0.5, 'Number of Tweets')"
      ]
     },
     "execution_count": 16,
     "metadata": {},
     "output_type": "execute_result"
    },
    {
     "data": {
      "image/png": "[encoded data removed]",
      "text/plain": [
       "<Figure size 432x288 with 1 Axes>"
      ]
     },
     "metadata": {
      "needs_background": "light"
     },
     "output_type": "display_data"
    }
   ],
   "source": [
    "trump['source'].value_counts().plot(kind=\"bar\")\n",
    "plt.ylabel(\"Number of Tweets\")"
   ]
  },
  {
   "cell_type": "markdown",
   "metadata": {},
   "source": [
    "Lets see if there is anything that can be garnered using the time data. \n",
    "\n",
    "First, lets see if the timezones are synced between all devices:"
   ]
  },
  {
   "cell_type": "code",
   "execution_count": 17,
   "metadata": {},
   "outputs": [
    {
     "name": "stdout",
     "output_type": "stream",
     "text": [
      "Sun Aug 16 18:41:50 +0000 2020\n",
      "Sun Aug 16 18:38:51 +0000 2020\n",
      "Sun Aug 16 18:37:38 +0000 2020\n"
     ]
    }
   ],
   "source": [
    "for t in trump_tweets[0:3]:\n",
    "    print(t['created_at'])"
   ]
  },
  {
   "cell_type": "markdown",
   "metadata": {},
   "source": [
    "They are synced, but to Pacific time. Since Trump is on the east coast, lets convert the time data to East Coast time. "
   ]
  },
  {
   "cell_type": "code",
   "execution_count": 18,
   "metadata": {},
   "outputs": [
    {
     "data": {
      "text/html": [
       "<div>\n",
       "<style scoped>\n",
       "    .dataframe tbody tr th:only-of-type {\n",
       "        vertical-align: middle;\n",
       "    }\n",
       "\n",
       "    .dataframe tbody tr th {\n",
       "        vertical-align: top;\n",
       "    }\n",
       "\n",
       "    .dataframe thead th {\n",
       "        text-align: right;\n",
       "    }\n",
       "</style>\n",
       "<table border=\"1\" class=\"dataframe\">\n",
       "  <thead>\n",
       "    <tr style=\"text-align: right;\">\n",
       "      <th></th>\n",
       "      <th>time</th>\n",
       "      <th>source</th>\n",
       "      <th>text</th>\n",
       "      <th>retweet_count</th>\n",
       "      <th>est_time</th>\n",
       "    </tr>\n",
       "  </thead>\n",
       "  <tbody>\n",
       "    <tr>\n",
       "      <th>1295068266843582465</th>\n",
       "      <td>2020-08-16 18:41:50+00:00</td>\n",
       "      <td>Twitter for iPhone</td>\n",
       "      <td>RT @bennyjohnson: What if people talked like @JOEBIDEN?\\n\\nAwkward... https://t.co/POpBPnRZSS</td>\n",
       "      <td>29381</td>\n",
       "      <td>2020-08-16 13:41:50-05:00</td>\n",
       "    </tr>\n",
       "    <tr>\n",
       "      <th>1295067517283598336</th>\n",
       "      <td>2020-08-16 18:38:51+00:00</td>\n",
       "      <td>Twitter for iPhone</td>\n",
       "      <td>Thank you Franklin! https://t.co/ZwpwcS2k2B</td>\n",
       "      <td>9011</td>\n",
       "      <td>2020-08-16 13:38:51-05:00</td>\n",
       "    </tr>\n",
       "    <tr>\n",
       "      <th>1295067207618244610</th>\n",
       "      <td>2020-08-16 18:37:38+00:00</td>\n",
       "      <td>Twitter for iPhone</td>\n",
       "      <td>Thank you James! https://t.co/cKiKlAXHqI</td>\n",
       "      <td>11044</td>\n",
       "      <td>2020-08-16 13:37:38-05:00</td>\n",
       "    </tr>\n",
       "    <tr>\n",
       "      <th>1295067052508696576</th>\n",
       "      <td>2020-08-16 18:37:01+00:00</td>\n",
       "      <td>Twitter for iPhone</td>\n",
       "      <td>RT @EricTrump: Robert Trump was an incredible man - strong, kind and loyal to the core. Anyone who encountered him felt his warmth immediat…</td>\n",
       "      <td>22936</td>\n",
       "      <td>2020-08-16 13:37:01-05:00</td>\n",
       "    </tr>\n",
       "    <tr>\n",
       "      <th>1295066300419538946</th>\n",
       "      <td>2020-08-16 18:34:01+00:00</td>\n",
       "      <td>Twitter for iPhone</td>\n",
       "      <td>RT @ChristieC733: I’m hearing some Republicans, pundits say we should “move on” from the #MullerReport in order to heal the nation...\\n\\nI di…</td>\n",
       "      <td>21018</td>\n",
       "      <td>2020-08-16 13:34:01-05:00</td>\n",
       "    </tr>\n",
       "  </tbody>\n",
       "</table>\n",
       "</div>"
      ],
      "text/plain": [
       "                                         time              source  \\\n",
       "1295068266843582465 2020-08-16 18:41:50+00:00  Twitter for iPhone   \n",
       "1295067517283598336 2020-08-16 18:38:51+00:00  Twitter for iPhone   \n",
       "1295067207618244610 2020-08-16 18:37:38+00:00  Twitter for iPhone   \n",
       "1295067052508696576 2020-08-16 18:37:01+00:00  Twitter for iPhone   \n",
       "1295066300419538946 2020-08-16 18:34:01+00:00  Twitter for iPhone   \n",
       "\n",
       "                                                                                                                                                               text  \\\n",
       "1295068266843582465                                                   RT @bennyjohnson: What if people talked like @JOEBIDEN?\\n\\nAwkward... https://t.co/POpBPnRZSS   \n",
       "1295067517283598336                                                                                                     Thank you Franklin! https://t.co/ZwpwcS2k2B   \n",
       "1295067207618244610                                                                                                        Thank you James! https://t.co/cKiKlAXHqI   \n",
       "1295067052508696576    RT @EricTrump: Robert Trump was an incredible man - strong, kind and loyal to the core. Anyone who encountered him felt his warmth immediat…   \n",
       "1295066300419538946  RT @ChristieC733: I’m hearing some Republicans, pundits say we should “move on” from the #MullerReport in order to heal the nation...\\n\\nI di…   \n",
       "\n",
       "                     retweet_count                  est_time  \n",
       "1295068266843582465          29381 2020-08-16 13:41:50-05:00  \n",
       "1295067517283598336           9011 2020-08-16 13:38:51-05:00  \n",
       "1295067207618244610          11044 2020-08-16 13:37:38-05:00  \n",
       "1295067052508696576          22936 2020-08-16 13:37:01-05:00  \n",
       "1295066300419538946          21018 2020-08-16 13:34:01-05:00  "
      ]
     },
     "execution_count": 18,
     "metadata": {},
     "output_type": "execute_result"
    }
   ],
   "source": [
    "trump['est_time'] = (\n",
    "    trump['time'] # Set initial timezone to UTC\n",
    "                 .dt.tz_convert(\"EST\") # Convert to Eastern Time\n",
    ")\n",
    "\n",
    "trump.head()"
   ]
  },
  {
   "cell_type": "markdown",
   "metadata": {},
   "source": [
    "Now adding a 'hour' column to the table using the equation: \n",
    "\n",
    "$$\n",
    "\\text{hour} + \\frac{\\text{minute}}{60} + \\frac{\\text{second}}{60^2}\n",
    "$$\n"
   ]
  },
  {
   "cell_type": "code",
   "execution_count": 19,
   "metadata": {},
   "outputs": [
    {
     "data": {
      "text/plain": [
       "8.936388888888889"
      ]
     },
     "execution_count": 19,
     "metadata": {},
     "output_type": "execute_result"
    }
   ],
   "source": [
    "trump['hour'] = trump['est_time'].dt.hour + trump['est_time'].dt.minute/60 + trump['est_time'].dt.second/(60*60)\n",
    "trump.loc[690171032150237184]['hour']"
   ]
  },
  {
   "cell_type": "markdown",
   "metadata": {},
   "source": [
    "# Plotting\n",
    "\n",
    "The seaborn distplot funciton is used here to examine the distribution over hours of the day in EST that trump tweets on his Android and Iphone devices:"
   ]
  },
  {
   "cell_type": "code",
   "execution_count": 20,
   "metadata": {},
   "outputs": [
    {
     "data": {
      "text/plain": [
       "<matplotlib.legend.Legend at 0x199457532b0>"
      ]
     },
     "execution_count": 20,
     "metadata": {},
     "output_type": "execute_result"
    },
    {
     "data": {
      "image/png": "[encoded data removed]",
      "text/plain": [
       "<Figure size 432x288 with 1 Axes>"
      ]
     },
     "metadata": {
      "needs_background": "light"
     },
     "output_type": "display_data"
    }
   ],
   "source": [
    "x = sns.distplot(trump[trump['source'] == 'Twitter for iPhone']['hour'], hist = False, kde=True, rug=False, color = 'b', label = 'iPhone' )\n",
    "y = sns.distplot(trump[trump['source'] == 'Twitter for Android']['hour'], hist = False, kde=True, rug=False, color = 'orange', label = 'Android' )\n",
    "\n",
    "plt.xlabel(\"hour\")\n",
    "plt.ylabel(\"fraction\")\n",
    "\n",
    "plt.legend()"
   ]
  },
  {
   "cell_type": "code",
   "execution_count": 21,
   "metadata": {},
   "outputs": [
    {
     "data": {
      "image/png": "[encoded data removed]",
      "text/plain": [
       "<Figure size 576x576 with 1 Axes>"
      ]
     },
     "metadata": {
      "needs_background": "light"
     },
     "output_type": "display_data"
    }
   ],
   "source": [
    "x = trump.loc[trump['source'] == 'Twitter for iPhone']\n",
    "y = trump.loc[trump['source'] == 'Twitter for Android']\n",
    "\n",
    "x_2016 = x.loc[x['est_time'].dt.year == 2016]\n",
    "y_2016 = y.loc[y['est_time'].dt.year == 2016]\n",
    "\n",
    "plt.figure(figsize=(8, 8))\n",
    "\n",
    "sns.distplot(x_2016['hour'], hist=False, label = 'iPhone')\n",
    "sns.distplot(y_2016['hour'], hist=False, label = 'Android')\n",
    "\n",
    "plt.xlabel(\"Hour\")\n",
    "plt.ylabel(\"fraction\")\n",
    "\n",
    "plt.show()"
   ]
  },
  {
   "cell_type": "markdown",
   "metadata": {},
   "source": [
    "According to [this Verge article](https://www.theverge.com/2017/3/29/15103504/donald-trump-iphone-using-switched-android), Donald Trump switched from an Android to an iPhone sometime in March 2017. Lets check this out by looking at Trump's 2016 tweets:"
   ]
  },
  {
   "cell_type": "code",
   "execution_count": 22,
   "metadata": {},
   "outputs": [
    {
     "data": {
      "image/png": "[encoded data removed]",
      "text/plain": [
       "<Figure size 576x576 with 1 Axes>"
      ]
     },
     "metadata": {
      "needs_background": "light"
     },
     "output_type": "display_data"
    }
   ],
   "source": [
    "x = trump.loc[trump['source'] == 'Twitter for iPhone']\n",
    "y = trump.loc[trump['source'] == 'Twitter for Android']\n",
    "\n",
    "x_2016 = x.loc[x['est_time'].dt.year == 2016]\n",
    "y_2016 = y.loc[y['est_time'].dt.year == 2016]\n",
    "\n",
    "plt.figure(figsize=(8, 8))\n",
    "\n",
    "sns.distplot(x_2016['hour'], hist=False, label = 'iPhone')\n",
    "sns.distplot(y_2016['hour'], hist=False, label = 'Android')\n",
    "\n",
    "plt.xlabel(\"Hour\")\n",
    "plt.ylabel(\"fraction\")\n",
    "\n",
    "plt.show()"
   ]
  },
  {
   "cell_type": "markdown",
   "metadata": {},
   "source": [
    "This seems plausible with the following thinking. Trump may prefer to tweet before and after work, hence around 6 am and around 8pm. His staff may continously be tweeting over a workday schedule 9am to about 8pm est time. Again, it the above theory is plausble based on the above graph. \n",
    "\n",
    "\n",
    "Lets compare Trump's iPhone usage to his Android usage. First, in order to plot the data as a distribution, the dates need to bge convereted to a fractional year:"
   ]
  },
  {
   "cell_type": "code",
   "execution_count": 23,
   "metadata": {},
   "outputs": [],
   "source": [
    "import datetime\n",
    "def year_fraction(date):\n",
    "    start = datetime.date(date.year, 1, 1).toordinal()\n",
    "    year_length = datetime.date(date.year+1, 1, 1).toordinal() - start\n",
    "    return date.year + float(date.toordinal() - start) / year_length\n",
    "\n",
    "\n",
    "trump['year'] = trump['time'].apply(year_fraction)"
   ]
  },
  {
   "cell_type": "code",
   "execution_count": 24,
   "metadata": {},
   "outputs": [
    {
     "data": {
      "text/plain": [
       "<matplotlib.legend.Legend at 0x1994584ee10>"
      ]
     },
     "execution_count": 24,
     "metadata": {},
     "output_type": "execute_result"
    },
    {
     "data": {
      "image/png": "[encoded data removed]",
      "text/plain": [
       "<Figure size 432x288 with 1 Axes>"
      ]
     },
     "metadata": {
      "needs_background": "light"
     },
     "output_type": "display_data"
    }
   ],
   "source": [
    "x = sns.distplot(trump[trump['source'] == 'Twitter for iPhone']['year'], hist = True, kde=True, rug=False, color = 'b', label = 'iPhone' )\n",
    "y = sns.distplot(trump[trump['source'] == 'Twitter for Android']['year'], hist = True, kde=True, rug=False, color = 'orange', label = 'Android' )\n",
    "#bike[bike['weekday']==i]['prop_casual'], bike[bike['weekday']==i]['temp']*41\n",
    "\n",
    "#plt.axis([0,8000, 0, 0.0008])\n",
    "plt.xlabel(\"year\")\n",
    "\n",
    "plt.legend()"
   ]
  },
  {
   "cell_type": "markdown",
   "metadata": {},
   "source": [
    "Okay so there is a problem here, I originally did this project in 2019. It's 2020 now, so the data I can scrape has missing data between 2018 and 2020. The rest of the analysis does not hinge on this gap of data. When possible, I will find missing data to fill the missing gap.\n",
    "\n",
    "Otherwise, here is the original resulting graph: \n",
    "\n",
    "<img src=\"source_years.png\" width=\"600px\" />\n",
    "\n"
   ]
  },
  {
   "cell_type": "markdown",
   "metadata": {},
   "source": [
    "# Phase II: Sentiment Analysis\n",
    "\n",
    "As mentioned in the introduction, it turns out that words in Trump's tweets can be used to calculate a measure of the sentiment. For example, the sentence \"Make America Great Again!\" has positive sentiment, whereas the sentence \"I hate taxes!\" has a negative sentiment. Some words words have stronger positive / negative sentiment than others: \"I love America.\" is more positive than \"I like America.\"\n",
    "\n",
    "Again, VADER lexicon is used to analyze the sentiment of the tweets. It is a rule-based sentiment analysis tool specifically for common social media language. It even accounts for emoji:  "
   ]
  },
  {
   "cell_type": "code",
   "execution_count": 25,
   "metadata": {},
   "outputs": [
    {
     "name": "stdout",
     "output_type": "stream",
     "text": [
      "$:\t-1.5\t0.80623\t[-1, -1, -1, -1, -3, -1, -3, -1, -2, -1]\n",
      "%)\t-0.4\t1.0198\t[-1, 0, -1, 0, 0, -2, -1, 2, -1, 0]\n",
      "%-)\t-1.5\t1.43178\t[-2, 0, -2, -2, -1, 2, -2, -3, -2, -3]\n",
      "&-:\t-0.4\t1.42829\t[-3, -1, 0, 0, -1, -1, -1, 2, -1, 2]\n",
      "&:\t-0.7\t0.64031\t[0, -1, -1, -1, 1, -1, -1, -1, -1, -1]\n",
      "( '}{' )\t1.6\t0.66332\t[1, 2, 2, 1, 1, 2, 2, 1, 3, 1]\n",
      "(%\t-0.9\t0.9434\t[0, 0, 1, -1, -1, -1, -2, -2, -1, -2]\n",
      "('-:\t2.2\t1.16619\t[4, 1, 4, 3, 1, 2, 3, 1, 2, 1]\n",
      "(':\t2.3\t0.9\t[1, 3, 3, 2, 2, 4, 2, 3, 1, 2]\n",
      "((-:\t2.1\t0.53852\t[2, 2, 2, 1, 2, 3, 2, 2, 3, 2]\n",
      "\n"
     ]
    }
   ],
   "source": [
    "print(''.join(open(\"vader_lexicon.txt\").readlines()[:10]))"
   ]
  },
  {
   "cell_type": "markdown",
   "metadata": {},
   "source": [
    "As shown, the first column of the lexicon is the token, or the word itself. The second column is the word's polarit, or how positive / negative it is.\n",
    "\n",
    "Here, the lexicon is appended to a DataFrame called 'sent':\n"
   ]
  },
  {
   "cell_type": "code",
   "execution_count": 26,
   "metadata": {},
   "outputs": [
    {
     "data": {
      "text/html": [
       "<div>\n",
       "<style scoped>\n",
       "    .dataframe tbody tr th:only-of-type {\n",
       "        vertical-align: middle;\n",
       "    }\n",
       "\n",
       "    .dataframe tbody tr th {\n",
       "        vertical-align: top;\n",
       "    }\n",
       "\n",
       "    .dataframe thead th {\n",
       "        text-align: right;\n",
       "    }\n",
       "</style>\n",
       "<table border=\"1\" class=\"dataframe\">\n",
       "  <thead>\n",
       "    <tr style=\"text-align: right;\">\n",
       "      <th></th>\n",
       "      <th>polarity</th>\n",
       "    </tr>\n",
       "    <tr>\n",
       "      <th>0</th>\n",
       "      <th></th>\n",
       "    </tr>\n",
       "  </thead>\n",
       "  <tbody>\n",
       "    <tr>\n",
       "      <th>$:</th>\n",
       "      <td>-1.5</td>\n",
       "    </tr>\n",
       "    <tr>\n",
       "      <th>%)</th>\n",
       "      <td>-0.4</td>\n",
       "    </tr>\n",
       "    <tr>\n",
       "      <th>%-)</th>\n",
       "      <td>-1.5</td>\n",
       "    </tr>\n",
       "    <tr>\n",
       "      <th>&amp;-:</th>\n",
       "      <td>-0.4</td>\n",
       "    </tr>\n",
       "    <tr>\n",
       "      <th>&amp;:</th>\n",
       "      <td>-0.7</td>\n",
       "    </tr>\n",
       "  </tbody>\n",
       "</table>\n",
       "</div>"
      ],
      "text/plain": [
       "     polarity\n",
       "0            \n",
       "$:       -1.5\n",
       "%)       -0.4\n",
       "%-)      -1.5\n",
       "&-:      -0.4\n",
       "&:       -0.7"
      ]
     },
     "execution_count": 26,
     "metadata": {},
     "output_type": "execute_result"
    }
   ],
   "source": [
    "sent = (pd.read_csv(\"vader_lexicon.txt\", sep ='\\t', header = None).\n",
    "        loc[:,0:1].set_index(0).\n",
    "        rename({1:'polarity'}, axis='columns')\n",
    "       )\n",
    "        \n",
    "sent.head()"
   ]
  },
  {
   "cell_type": "markdown",
   "metadata": {},
   "source": [
    "Now to set all letters to lowercase since the lexicon is only lowercase. "
   ]
  },
  {
   "cell_type": "code",
   "execution_count": 27,
   "metadata": {},
   "outputs": [
    {
     "data": {
      "text/plain": [
       "'working hard to get the olympics for the united states (l.a.). stay tuned!'"
      ]
     },
     "execution_count": 27,
     "metadata": {},
     "output_type": "execute_result"
    }
   ],
   "source": [
    "trump['text'] = trump['text'].str.lower()\n",
    "#trump.index[(trump.values=='working hard to get the olympics for the united states (l.a.). stay tuned!').any(0)].tolist()\n",
    "trump['text'].loc[884740553040175104]"
   ]
  },
  {
   "cell_type": "markdown",
   "metadata": {},
   "source": [
    "Since punctuation is not accounted for in the Lexicon, all punctuation is removed and replaced with a whitespace. "
   ]
  },
  {
   "cell_type": "code",
   "execution_count": 28,
   "metadata": {},
   "outputs": [],
   "source": [
    "#regex is used here\n",
    "punct_re = r'[^\\w\\s]'\n",
    "trump['no_punc'] = trump['text'].str.replace(punct_re, ' ')"
   ]
  },
  {
   "cell_type": "markdown",
   "metadata": {},
   "source": [
    "# Tidy Format\n",
    "\n",
    "Tidy format is a format that makes sentiments easier to calculate. For more, see the [*tidy format*](https://cran.r-project.org/web/packages/tidyr/vignettes/tidy-data.html) page. "
   ]
  },
  {
   "cell_type": "code",
   "execution_count": 29,
   "metadata": {},
   "outputs": [
    {
     "data": {
      "text/html": [
       "<div>\n",
       "<style scoped>\n",
       "    .dataframe tbody tr th:only-of-type {\n",
       "        vertical-align: middle;\n",
       "    }\n",
       "\n",
       "    .dataframe tbody tr th {\n",
       "        vertical-align: top;\n",
       "    }\n",
       "\n",
       "    .dataframe thead th {\n",
       "        text-align: right;\n",
       "    }\n",
       "</style>\n",
       "<table border=\"1\" class=\"dataframe\">\n",
       "  <thead>\n",
       "    <tr style=\"text-align: right;\">\n",
       "      <th></th>\n",
       "      <th>num</th>\n",
       "      <th>word</th>\n",
       "    </tr>\n",
       "  </thead>\n",
       "  <tbody>\n",
       "    <tr>\n",
       "      <th>1295068266843582465</th>\n",
       "      <td>0</td>\n",
       "      <td>rt</td>\n",
       "    </tr>\n",
       "    <tr>\n",
       "      <th>1295068266843582465</th>\n",
       "      <td>1</td>\n",
       "      <td>bennyjohnson</td>\n",
       "    </tr>\n",
       "    <tr>\n",
       "      <th>1295068266843582465</th>\n",
       "      <td>2</td>\n",
       "      <td>what</td>\n",
       "    </tr>\n",
       "    <tr>\n",
       "      <th>1295068266843582465</th>\n",
       "      <td>3</td>\n",
       "      <td>if</td>\n",
       "    </tr>\n",
       "    <tr>\n",
       "      <th>1295068266843582465</th>\n",
       "      <td>4</td>\n",
       "      <td>people</td>\n",
       "    </tr>\n",
       "  </tbody>\n",
       "</table>\n",
       "</div>"
      ],
      "text/plain": [
       "                     num          word\n",
       "1295068266843582465    0            rt\n",
       "1295068266843582465    1  bennyjohnson\n",
       "1295068266843582465    2          what\n",
       "1295068266843582465    3            if\n",
       "1295068266843582465    4        people"
      ]
     },
     "execution_count": 29,
     "metadata": {},
     "output_type": "execute_result"
    }
   ],
   "source": [
    "tidy_format = (\n",
    "    trump['no_punc']\n",
    "     .str.split(expand=True)\n",
    "     .stack()\n",
    "     .reset_index()\n",
    "     .iloc[:,0:3]\n",
    "     .set_index('level_0') \n",
    "    )\n",
    "\n",
    "tidy_format.columns = ['num', 'word']\n",
    "del tidy_format.index.name\n",
    "\n",
    "tidy_format.head()"
   ]
  },
  {
   "cell_type": "code",
   "execution_count": 30,
   "metadata": {},
   "outputs": [
    {
     "data": {
      "text/html": [
       "<div>\n",
       "<style scoped>\n",
       "    .dataframe tbody tr th:only-of-type {\n",
       "        vertical-align: middle;\n",
       "    }\n",
       "\n",
       "    .dataframe tbody tr th {\n",
       "        vertical-align: top;\n",
       "    }\n",
       "\n",
       "    .dataframe thead th {\n",
       "        text-align: right;\n",
       "    }\n",
       "</style>\n",
       "<table border=\"1\" class=\"dataframe\">\n",
       "  <thead>\n",
       "    <tr style=\"text-align: right;\">\n",
       "      <th></th>\n",
       "      <th>polarity</th>\n",
       "    </tr>\n",
       "    <tr>\n",
       "      <th>0</th>\n",
       "      <th></th>\n",
       "    </tr>\n",
       "  </thead>\n",
       "  <tbody>\n",
       "    <tr>\n",
       "      <th>$:</th>\n",
       "      <td>-1.5</td>\n",
       "    </tr>\n",
       "    <tr>\n",
       "      <th>%)</th>\n",
       "      <td>-0.4</td>\n",
       "    </tr>\n",
       "    <tr>\n",
       "      <th>%-)</th>\n",
       "      <td>-1.5</td>\n",
       "    </tr>\n",
       "    <tr>\n",
       "      <th>&amp;-:</th>\n",
       "      <td>-0.4</td>\n",
       "    </tr>\n",
       "    <tr>\n",
       "      <th>&amp;:</th>\n",
       "      <td>-0.7</td>\n",
       "    </tr>\n",
       "  </tbody>\n",
       "</table>\n",
       "</div>"
      ],
      "text/plain": [
       "     polarity\n",
       "0            \n",
       "$:       -1.5\n",
       "%)       -0.4\n",
       "%-)      -1.5\n",
       "&-:      -0.4\n",
       "&:       -0.7"
      ]
     },
     "execution_count": 30,
     "metadata": {},
     "output_type": "execute_result"
    }
   ],
   "source": [
    "sent.head()"
   ]
  },
  {
   "cell_type": "markdown",
   "metadata": {},
   "source": [
    "Now, the `tidy_format` table can be joined with the lexicon table. The sum of the sentiment polarity of each word in the text of the tweet is called `polarity`: "
   ]
  },
  {
   "cell_type": "code",
   "execution_count": 31,
   "metadata": {},
   "outputs": [
    {
     "name": "stderr",
     "output_type": "stream",
     "text": [
      "c:\\users\\ted kumagai\\appdata\\local\\programs\\python\\python36\\lib\\site-packages\\ipykernel_launcher.py:7: FutureWarning: using a dict on a Series for aggregation\n",
      "is deprecated and will be removed in a future version. Use                 named aggregation instead.\n",
      "\n",
      "    >>> grouper.agg(name_1=func_1, name_2=func_2)\n",
      "\n",
      "  import sys\n"
     ]
    },
    {
     "data": {
      "text/plain": [
       "0.0"
      ]
     },
     "execution_count": 31,
     "metadata": {},
     "output_type": "execute_result"
    }
   ],
   "source": [
    "j = (\n",
    "    pd.merge(tidy_format, sent, left_on='word', right_index=True)      \n",
    "    \n",
    "\n",
    ")\n",
    "\n",
    "k = j.groupby(j.index).polarity.agg({'polarity': np.sum})\n",
    "\n",
    "trump['polarity'] = k\n",
    "trump = trump.fillna(value=0)\n",
    "trump.loc[744355251365511169, 'polarity']\n"
   ]
  },
  {
   "cell_type": "markdown",
   "metadata": {},
   "source": [
    "# EDA"
   ]
  },
  {
   "cell_type": "markdown",
   "metadata": {},
   "source": [
    "Lets take a look at these tweets first by looking at the most postitive and negative Trump tweets. "
   ]
  },
  {
   "cell_type": "code",
   "execution_count": 32,
   "metadata": {},
   "outputs": [
    {
     "name": "stdout",
     "output_type": "stream",
     "text": [
      "Most positive tweets:\n",
      "\n",
      "   today, it was my great honor to proudly accept the endorsement of the @nycpba! i have deeply and profoundly admired the brave men and women of the #nypd for my entire life. new york’s finest are truly the best of the best — i will never let you down! #maga https://t.co/o1l5kax34v\n",
      "\n",
      "   i am a big fan of drew brees. i think he’s truly one of the greatest quarterbacks, but he should not have taken back his original stance on honoring our magnificent american flag. old glory is to be revered, cherished, and flown high...\n",
      "\n",
      "   today we celebrated the passage of landmark legislation that will preserve america’s majestic natural wonders, priceless historic treasures, grand national monuments, and glorious national parks. it was my great honor to sign the great american outdoors act into law! #hr1957 https://t.co/kxdgpidqh2\n",
      "\n",
      "   congratulations to @ronnyjackson4tx on a big win against a tough and really good opponent. ronny will be a fantastic congressman - will represent the wonderful people of the great state of texas, and the usa, very well. proud of you ronny!!!\n",
      "\n",
      "   thank you to linda bean of l.l.bean for your great support and courage. people will support you even more now. buy l.l.bean. @lbperfectmaine\n"
     ]
    }
   ],
   "source": [
    "print('Most positive tweets:')\n",
    "for t in trump.sort_values('polarity', ascending=False).head()['text']:\n",
    "    print('\\n  ', t)"
   ]
  },
  {
   "cell_type": "code",
   "execution_count": 33,
   "metadata": {},
   "outputs": [
    {
     "name": "stdout",
     "output_type": "stream",
     "text": [
      "Most negative tweets:\n",
      "\n",
      "   colin powell was a pathetic interview today on fake news cnn. in his time, he was weak &amp; gave away everything to everybody - so bad for the usa. also got the “weapons of mass destruction” totally wrong, and you know what that mistake cost us? sad! only negative questions asked.\n",
      "\n",
      "   rarely has anybody deserved the death penalty more than the boston bomber, dzhokhar tsarnaev. the court agreed that this “was one of the worst domestic terrorist attacks since the 9/11 atrocities”. yet the appellate court tossed out the death sentence. so many lives lost....\n",
      "\n",
      "   horrible and cowardly terrorist attack on innocent and defenseless worshipers in egypt. the world cannot tolerate terrorism, we must defeat them militarily and discredit the extremist ideology that forms the basis of their existence!\n",
      "\n",
      "   because of mail-in ballots, 2020 will be the most rigged election in our nations history - unless this stupidity is ended. we voted during world war one &amp; world war two with no problem, but now they are using covid in order to cheat by using mail-ins!\n",
      "\n",
      "   ....no republican senate judiciary response, no “justice”, no fbi, no nothing. major horror show reports on comey &amp; mccabe, guilty as hell, nothing happens. catch obama &amp; biden cold, nothing. a 3 year, $45,000,000 mueller hoax, failed - investigated everything....\n"
     ]
    }
   ],
   "source": [
    "print('Most negative tweets:')\n",
    "for t in trump.sort_values('polarity').head()['text']:\n",
    "    print('\\n  ', t)"
   ]
  },
  {
   "cell_type": "markdown",
   "metadata": {},
   "source": [
    "# Plotting Distribution: New York Times vs. Fox\n",
    "\n",
    "From plot, tweets with 'fox' seem more postivie than \"nyt\" as FOX graph is centered around 0 or +1 versus NYT graph centered around -3. Fox is more postive trend than NYT comments which are more negative. "
   ]
  },
  {
   "cell_type": "code",
   "execution_count": 34,
   "metadata": {},
   "outputs": [
    {
     "data": {
      "image/png": "[encoded data removed]",
      "text/plain": [
       "<Figure size 432x288 with 1 Axes>"
      ]
     },
     "metadata": {
      "needs_background": "light"
     },
     "output_type": "display_data"
    }
   ],
   "source": [
    "nyt = trump.loc[trump['no_punc'].str.contains('nyt')]\n",
    "fox = trump.loc[trump['no_punc'].str.contains('fox')]\n",
    "\n",
    "sns.distplot(nyt['polarity'], hist=False, label = 'NYT Sentiment')\n",
    "sns.distplot(fox['polarity'], hist=False, label = 'FOX Sentiment')\n",
    "plt.show()"
   ]
  },
  {
   "cell_type": "markdown",
   "metadata": {},
   "source": [
    "# Engagement: What words lead to a greater number of retweets?\n",
    "\n",
    "Here the top 20 most retweeted words are found. These words appear in at least 25 of Trump's tweets. "
   ]
  },
  {
   "cell_type": "code",
   "execution_count": 35,
   "metadata": {},
   "outputs": [
    {
     "data": {
      "text/html": [
       "<div>\n",
       "<style scoped>\n",
       "    .dataframe tbody tr th:only-of-type {\n",
       "        vertical-align: middle;\n",
       "    }\n",
       "\n",
       "    .dataframe tbody tr th {\n",
       "        vertical-align: top;\n",
       "    }\n",
       "\n",
       "    .dataframe thead th {\n",
       "        text-align: right;\n",
       "    }\n",
       "</style>\n",
       "<table border=\"1\" class=\"dataframe\">\n",
       "  <thead>\n",
       "    <tr style=\"text-align: right;\">\n",
       "      <th></th>\n",
       "      <th>retweet_count</th>\n",
       "    </tr>\n",
       "    <tr>\n",
       "      <th>word</th>\n",
       "      <th></th>\n",
       "    </tr>\n",
       "  </thead>\n",
       "  <tbody>\n",
       "    <tr>\n",
       "      <th>anarchists</th>\n",
       "      <td>39024.441860</td>\n",
       "    </tr>\n",
       "    <tr>\n",
       "      <th>try</th>\n",
       "      <td>35764.264706</td>\n",
       "    </tr>\n",
       "    <tr>\n",
       "      <th>seattle</th>\n",
       "      <td>34074.440000</td>\n",
       "    </tr>\n",
       "    <tr>\n",
       "      <th>lowest</th>\n",
       "      <td>33994.406250</td>\n",
       "    </tr>\n",
       "    <tr>\n",
       "      <th>virus</th>\n",
       "      <td>31392.923077</td>\n",
       "    </tr>\n",
       "    <tr>\n",
       "      <th>cases</th>\n",
       "      <td>31338.285714</td>\n",
       "    </tr>\n",
       "    <tr>\n",
       "      <th>old</th>\n",
       "      <td>31220.925926</td>\n",
       "    </tr>\n",
       "  </tbody>\n",
       "</table>\n",
       "</div>"
      ],
      "text/plain": [
       "            retweet_count\n",
       "word                     \n",
       "anarchists   39024.441860\n",
       "try          35764.264706\n",
       "seattle      34074.440000\n",
       "lowest       33994.406250\n",
       "virus        31392.923077\n",
       "cases        31338.285714\n",
       "old          31220.925926"
      ]
     },
     "execution_count": 35,
     "metadata": {},
     "output_type": "execute_result"
    }
   ],
   "source": [
    "top_20 = (tidy_format\n",
    "        .join(trump['retweet_count'])\n",
    "        .loc[:,['word', 'retweet_count']]\n",
    "        .groupby('word')\n",
    "        .filter(lambda i: len(i) >= 25)\n",
    "        .groupby('word')\n",
    "        .mean()\n",
    "        .sort_values('retweet_count', ascending=False)\n",
    "        .head(20)\n",
    "            ) \n",
    "        \n",
    "top_20.head(7)"
   ]
  },
  {
   "cell_type": "code",
   "execution_count": 36,
   "metadata": {},
   "outputs": [
    {
     "data": {
      "image/png": "[encoded data removed]",
      "text/plain": [
       "<Figure size 720x576 with 1 Axes>"
      ]
     },
     "metadata": {
      "needs_background": "light"
     },
     "output_type": "display_data"
    }
   ],
   "source": [
    "top_20['retweet_count'].sort_values().plot.barh(figsize=(10, 8));"
   ]
  },
  {
   "cell_type": "markdown",
   "metadata": {},
   "source": [
    "# Tweet Sentiment vs. Reweet Count"
   ]
  },
  {
   "cell_type": "markdown",
   "metadata": {},
   "source": [
    "From graph below, there appears slight negative relationship between sentiment and retweet count. This is shown via the negative skew of the linear regression line. This is not a definite conclusion as correlation does not imply causation. This data, however, does is plausible enough to reinforce the notion between Tweet sentiment and Retweet Count.\n",
    "\n",
    "The graph may be affected by outliers and how his number of followers increasing post presidency may be affecting this data. The data overall may be able to be skewed more properly via measing the ratio of retweets to the number of followers and averaging them over a timeframe."
   ]
  },
  {
   "cell_type": "code",
   "execution_count": 37,
   "metadata": {},
   "outputs": [
    {
     "data": {
      "image/png": "[encoded data removed]",
      "text/plain": [
       "<Figure size 576x576 with 1 Axes>"
      ]
     },
     "metadata": {
      "needs_background": "light"
     },
     "output_type": "display_data"
    }
   ],
   "source": [
    "sns.lmplot(data=trump, x='polarity', y='retweet_count', scatter_kws={'s':10}, height=8 )\n",
    "\n",
    "plt.title(\"Trump's Tweet Sentiment vs. Retweet Count\")\n",
    "plt.xlabel(\"Tweet Sentiment\")\n",
    "plt.ylabel(\"Retweet Count\")\n",
    "\n",
    "plt.show()"
   ]
  },
  {
   "cell_type": "markdown",
   "metadata": {},
   "source": [
    "# Conclusion: \n",
    "\n",
    "\n",
    "This project was pretty fun to do. I enjoyed seeing how people's tweets can be measured in terms of polarization with the VADER lexicon. I also showed more data cleaning and graphing methods. The important thing to note is that although, through python, I can generate graphs and visuals; the data and graphs are just data and graphs. It is important that a person comes in and makes a story out of the data. This is why I think it is paramount to be able to document and explain your work in a easily communicable fashion. \n",
    "\n",
    "Thanks for taking a read!"
   ]
  },
  {
   "cell_type": "code",
   "execution_count": null,
   "metadata": {},
   "outputs": [],
   "source": []
  }
 ],
 "metadata": {
  "kernelspec": {
   "display_name": "Python 3",
   "language": "python",
   "name": "python3"
  },
  "language_info": {
   "codemirror_mode": {
    "name": "ipython",
    "version": 3
   },
   "file_extension": ".py",
   "mimetype": "text/x-python",
   "name": "python",
   "nbconvert_exporter": "python",
   "pygments_lexer": "ipython3",
   "version": "3.6.0"
  }
 },
 "nbformat": 4,
 "nbformat_minor": 2
}
